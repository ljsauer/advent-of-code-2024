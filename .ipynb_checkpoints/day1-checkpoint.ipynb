{
 "cells": [
  {
   "cell_type": "code",
   "execution_count": 1,
   "id": "39f067ab-e229-45d6-8998-14a50d22167d",
   "metadata": {},
   "outputs": [],
   "source": [
    "# Day 1: Historian Hysteria\n",
    "\n",
    "# Given two lists of numbers containing unique LocationIds,\n",
    "# pair up the numbers between the two list from smallest to largest.\n",
    "# Within each pair, determine how far apart the two numbers are,\n",
    "# then add up all the distances. The answer is the total distance."
   ]
  },
  {
   "cell_type": "code",
   "execution_count": 2,
   "id": "79f3ff7c-bd1d-4e1c-aa38-8fd255248ea3",
   "metadata": {},
   "outputs": [
    {
     "name": "stdout",
     "output_type": "stream",
     "text": [
      "['40885   43247\\n', '14780   86274\\n', '35132   49508\\n']\n"
     ]
    }
   ],
   "source": [
    "# load file\n",
    "import os\n",
    "\n",
    "nb_path = os.path.abspath(\"advent_of_code\")\n",
    "\n",
    "with open(os.path.join(nb_path, 'input1.txt'), 'r') as f:\n",
    "    _input = f.readlines()\n",
    "\n",
    "print(_input[:3])"
   ]
  },
  {
   "cell_type": "code",
   "execution_count": 3,
   "id": "67e51c12-d3d5-4662-941d-aafdb7aef71d",
   "metadata": {},
   "outputs": [
    {
     "name": "stdout",
     "output_type": "stream",
     "text": [
      "['40885', '14780', '35132'] ['43247', '86274', '49508']\n",
      "['10219', '10238', '10262'] ['10069', '10118', '10760']\n"
     ]
    }
   ],
   "source": [
    "# split lists in two and sort from smallest to largest\n",
    "list_of_rows = [i for r in _input for i in r.strip('\\n').split()]\n",
    "\n",
    "list_one = list_of_rows[::2]\n",
    "list_two = list_of_rows[1::2]\n",
    "print(list_one[:3], list_two[:3])\n",
    "\n",
    "list_one.sort()\n",
    "list_two.sort()\n",
    "print(list_one[:3], list_two[:3])"
   ]
  },
  {
   "cell_type": "code",
   "execution_count": 4,
   "id": "d2f5f39b-988f-46b3-87e1-87a3773b7f0e",
   "metadata": {},
   "outputs": [
    {
     "name": "stdout",
     "output_type": "stream",
     "text": [
      "[150, 120, 498]\n",
      "Part 1 Answer:  1941353\n"
     ]
    }
   ],
   "source": [
    "# determine the distances between the sorted numbers in the lists\n",
    "distances = [abs(int(x) - int(y)) for x, y in zip(list_one, list_two)]\n",
    "print(distances[:3])\n",
    "\n",
    "print(\"Part 1 Answer: \", sum(distances))"
   ]
  },
  {
   "cell_type": "code",
   "execution_count": 5,
   "id": "9e0fb474-34d8-4e68-9fea-860e2a7f5e62",
   "metadata": {},
   "outputs": [],
   "source": [
    "# Part 2: Determine how many numbers from list 1 appear in list 2,\n",
    "# and calculate a similarity score by adding each number in the left list\n",
    "# after multiplying it by the number of time it appears in the right"
   ]
  },
  {
   "cell_type": "code",
   "execution_count": 6,
   "id": "95b1dc5e-09ec-4bf5-8e0a-ae2782507e14",
   "metadata": {},
   "outputs": [
    {
     "name": "stdout",
     "output_type": "stream",
     "text": [
      "Similarity Score:  22539317\n"
     ]
    }
   ],
   "source": [
    "import re\n",
    "\n",
    "n_appearances = []\n",
    "\n",
    "for n1 in list_one:\n",
    "    r = re.compile(n1)\n",
    "    matches = list(filter(r.match, list_two))\n",
    "    n_appearances.append(int(n1)*len(matches) if len(matches) else 0)\n",
    "\n",
    "print(\"Similarity Score: \", sum(n_appearances))"
   ]
  },
  {
   "cell_type": "code",
   "execution_count": null,
   "id": "01a376e5-097e-4bdd-a110-fa31998f311f",
   "metadata": {},
   "outputs": [],
   "source": []
  }
 ],
 "metadata": {
  "kernelspec": {
   "display_name": "Python 3 (ipykernel)",
   "language": "python",
   "name": "python3"
  },
  "language_info": {
   "codemirror_mode": {
    "name": "ipython",
    "version": 3
   },
   "file_extension": ".py",
   "mimetype": "text/x-python",
   "name": "python",
   "nbconvert_exporter": "python",
   "pygments_lexer": "ipython3",
   "version": "3.12.0"
  }
 },
 "nbformat": 4,
 "nbformat_minor": 5
}
