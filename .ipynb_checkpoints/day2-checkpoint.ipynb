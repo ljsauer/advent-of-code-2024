{
 "cells": [
  {
   "cell_type": "code",
   "execution_count": 1,
   "id": "4978905e-129f-443f-b289-57d102afcc81",
   "metadata": {},
   "outputs": [],
   "source": [
    "# Day 2: Red-Nosed Reports\n",
    "# Given a file with one report per line, determine how many reports are safe\n",
    "# A report consists of a list of numbers (called levels) separated by spaces \n",
    "# A safe report consists of:\n",
    "# - levels that are all increasing or all decreasing\n",
    "# - adjacent levels that differ by 1 <= level <= 3"
   ]
  },
  {
   "cell_type": "code",
   "execution_count": 2,
   "id": "683c0c18-ee82-4e04-a291-c8b86bf4164f",
   "metadata": {},
   "outputs": [
    {
     "name": "stdout",
     "output_type": "stream",
     "text": [
      "['19 20 21 23 24 25 28 26\\n', '56 58 60 63 66 69 69\\n', '3 6 7 8 11 15\\n']\n"
     ]
    }
   ],
   "source": [
    "# load file\n",
    "import os\n",
    "\n",
    "nb_path = os.path.abspath(\"\")\n",
    "\n",
    "with open(os.path.join(nb_path, 'input2.txt'), 'r') as f:\n",
    "    _input = f.readlines()\n",
    "\n",
    "print(_input[:3])"
   ]
  },
  {
   "cell_type": "code",
   "execution_count": 3,
   "id": "b52e252f-73f5-484d-b24f-eb6f0c481c39",
   "metadata": {},
   "outputs": [],
   "source": [
    "# define helper functions\n",
    "def clean(report: str) -> list[int]:\n",
    "    r_list = [int(n) for n in report.strip().split()]\n",
    "    return r_list\n",
    "\n",
    "def is_safe(report: list[int]) -> bool:\n",
    "    all_increasing = all(i < j for i, j in zip(report, report[1:]))\n",
    "    all_decreasing = all(i > j for i, j in zip(report, report[1:]))\n",
    "    within_bounds = all(1 <= abs(i - j) <= 3 for i, j in zip(report, report[1:]))\n",
    "    return (all_increasing or all_decreasing) and within_bounds"
   ]
  },
  {
   "cell_type": "code",
   "execution_count": 4,
   "id": "3b896820-bdb6-462f-81bb-9a5f2bee8042",
   "metadata": {},
   "outputs": [
    {
     "name": "stdout",
     "output_type": "stream",
     "text": [
      "Part One Answer:  326\n"
     ]
    }
   ],
   "source": [
    "safe_reports = []\n",
    "for report in _input:\n",
    "    cleaned = clean(report)\n",
    "    safe = is_safe(cleaned)\n",
    "    \n",
    "    if safe:\n",
    "        safe_reports.append(cleaned)\n",
    "\n",
    "print(\"Part One Answer: \", len(safe_reports))"
   ]
  },
  {
   "cell_type": "code",
   "execution_count": null,
   "id": "6cb1f064-f306-493e-8e9d-b61abdc8cfe5",
   "metadata": {},
   "outputs": [],
   "source": []
  }
 ],
 "metadata": {
  "kernelspec": {
   "display_name": "Python 3 (ipykernel)",
   "language": "python",
   "name": "python3"
  },
  "language_info": {
   "codemirror_mode": {
    "name": "ipython",
    "version": 3
   },
   "file_extension": ".py",
   "mimetype": "text/x-python",
   "name": "python",
   "nbconvert_exporter": "python",
   "pygments_lexer": "ipython3",
   "version": "3.12.0"
  }
 },
 "nbformat": 4,
 "nbformat_minor": 5
}
